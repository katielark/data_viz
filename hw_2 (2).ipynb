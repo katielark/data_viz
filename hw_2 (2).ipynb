{
 "cells": [
  {
   "cell_type": "markdown",
   "id": "aa0eb01b-0bfa-437a-af6b-7c79e585a66f",
   "metadata": {},
   "source": [
    "HW 2: I worked with Emma Brown and Jocelyn Rosa to complete this assignment!"
   ]
  },
  {
   "cell_type": "code",
   "execution_count": 1,
   "id": "9473eb2c-585d-4b85-8aa0-c6f5373128f9",
   "metadata": {},
   "outputs": [],
   "source": [
    "import pandas as pd\n",
    "import numpy as np\n",
    "import matplotlib.pyplot as plt\n",
    "import seaborn as sns\n",
    "import os\n",
    "\n",
    "import dhs_util\n",
    "from dhs_util import *"
   ]
  },
  {
   "cell_type": "code",
   "execution_count": null,
   "id": "f78c483d-c68f-46c2-857b-89db1dde5b24",
   "metadata": {},
   "outputs": [],
   "source": [
    "os.chdir('/Users/katielark/Downloads/data_viz')\n",
    "df = pd.read_csv('dhs_service_records_synthesized_final.csv')\n",
    "df = dhs_preprocessing(df)\n",
    "df, service_map = add_service_label(df)\n",
    "df = add_age_bin(df)\n",
    "\n",
    "recipient = get_recipient_attribute(df)"
   ]
  },
  {
   "cell_type": "code",
   "execution_count": null,
   "id": "5c7afaa9-6356-45bf-8186-1516c8a1b1f9",
   "metadata": {},
   "outputs": [],
   "source": [
    "df"
   ]
  },
  {
   "cell_type": "code",
   "execution_count": null,
   "id": "84fc512d-396c-408c-a8f9-6c15617f3e4e",
   "metadata": {},
   "outputs": [],
   "source": [
    "recipient"
   ]
  },
  {
   "cell_type": "markdown",
   "id": "19c97a96-10b4-4d4d-8f89-70b4642975fa",
   "metadata": {},
   "source": [
    "1. Choose a pair or multiple behavior cohorts of recipients based on a set of behavior criteria that you think may be of importance (to the works done at DHS)\n",
    "- e.g., recipients who received mental health service (S14) vs. those who did not\n",
    "- e.g., recipients who received mental health service AND income support vs. those who received mental health support only (or the other way around)"
   ]
  },
  {
   "cell_type": "code",
   "execution_count": null,
   "id": "2086795c-1a25-460b-b49a-106e090fbd71",
   "metadata": {},
   "outputs": [],
   "source": [
    "s15_id =df.query(\"serv == 'S15'\")['id'].unique()\n",
    "len(s15_id)"
   ]
  },
  {
   "cell_type": "code",
   "execution_count": null,
   "id": "950b7364-2f9c-42e8-bf5c-03169c5dd316",
   "metadata": {},
   "outputs": [],
   "source": [
    "one_serv_id = recipient.query(\"distinct_service == 1\").id.to_list()\n",
    "len(one_serv_id)"
   ]
  },
  {
   "cell_type": "code",
   "execution_count": null,
   "id": "ec151698-91bc-4af3-b6aa-408a159de61a",
   "metadata": {},
   "outputs": [],
   "source": [
    "s15_only = list(set(s15_id) & set(one_serv_id))\n",
    "len(s15_only)"
   ]
  },
  {
   "cell_type": "code",
   "execution_count": null,
   "id": "89641191-4349-4c7b-bbe9-a55dd24d2278",
   "metadata": {},
   "outputs": [],
   "source": [
    "s14_id =df.query(\"serv == 'S14'\")['id'].unique()\n",
    "len(s14_id)"
   ]
  },
  {
   "cell_type": "code",
   "execution_count": null,
   "id": "eec18304-5e3f-48d6-93c8-1552aacaa2be",
   "metadata": {},
   "outputs": [],
   "source": [
    "s14_s15 = list(set(s14_id) & set(s15_id))\n",
    "len(s14_s15)"
   ]
  },
  {
   "cell_type": "code",
   "execution_count": null,
   "id": "431f7f62-bb4f-4bba-9a35-5e193a5842cd",
   "metadata": {},
   "outputs": [],
   "source": [
    "s_15 = list(set(s15_id)-set(s14_s15)-set(s15_only))\n",
    "len(s_15)"
   ]
  },
  {
   "cell_type": "code",
   "execution_count": null,
   "id": "b7f3a246-0c21-46f0-9639-a3ad52eb1606",
   "metadata": {},
   "outputs": [],
   "source": [
    "cohort1 = pd.DataFrame(zip(s14_s15, ['ch1']*len(s14_s15)),columns=['id','cohort']) #cohort for ids receiving BOTH substance abuse AND mental health services\n",
    "cohort2 = pd.DataFrame(zip(s_15, ['ch2']*len(s_15)),columns=['id','cohort']) #cohort for ids receiving mental health services (excluding mental health and only 1 service)\n",
    "cohort3 = pd.DataFrame(zip(s15_only, ['ch3']*len(s15_only)),columns=['id','cohort']) #cohort for ids receiving ONLY substance abuse services\n",
    "cohort_all=pd.concat([cohort1,cohort2,cohort3],axis=0) "
   ]
  },
  {
   "cell_type": "code",
   "execution_count": null,
   "id": "81510bd5-cbaa-445b-b7bd-df984e8ef405",
   "metadata": {},
   "outputs": [],
   "source": [
    "len(cohort_all) #verifying!"
   ]
  },
  {
   "cell_type": "code",
   "execution_count": null,
   "id": "6b4438ee-92e2-47de-b68f-758bb95b8817",
   "metadata": {},
   "outputs": [],
   "source": [
    "cohort_all.groupby('cohort').id.nunique() #verifying!"
   ]
  },
  {
   "cell_type": "markdown",
   "id": "c94232f2-1256-42b6-af94-91a225180073",
   "metadata": {},
   "source": [
    "2. Prepare the analysis file for cohort analysis on your cohorts"
   ]
  },
  {
   "cell_type": "markdown",
   "id": "3a371a7d-17e3-44a9-9551-023f259574e6",
   "metadata": {},
   "source": [
    "I am creating a cleaned dataframe that I will use in the analysis that follows! "
   ]
  },
  {
   "cell_type": "code",
   "execution_count": null,
   "id": "72e62796-c9db-447f-a544-69662144ef6c",
   "metadata": {},
   "outputs": [],
   "source": [
    "df = df.merge(cohort_all, on=['id'], how='inner') #merging df w cohort to make df w all ids in every cohort"
   ]
  },
  {
   "cell_type": "code",
   "execution_count": null,
   "id": "aaba94eb-b79c-4915-a17d-8d8e8710a1d3",
   "metadata": {},
   "outputs": [],
   "source": [
    "df"
   ]
  },
  {
   "cell_type": "code",
   "execution_count": null,
   "id": "d7669aa1-3d60-41f4-b97a-a0606a920f3b",
   "metadata": {},
   "outputs": [],
   "source": [
    "df.groupby('cohort').nunique() #verifying!"
   ]
  },
  {
   "cell_type": "markdown",
   "id": "36dc2904-b845-414a-9b46-c37bcbc50c4f",
   "metadata": {},
   "source": [
    "3. Produce an analysis to answer questions that you think may be insightful\n",
    "- e.g., what are the demographic differences between the cohorts?\n",
    "- e.g., are there common services (other than income support) that the cohorts have in common?\n",
    "- What are some similarities between the cohorts? "
   ]
  },
  {
   "cell_type": "markdown",
   "id": "25a76151-215e-42b1-be0d-68c7c222e19a",
   "metadata": {},
   "source": [
    "1. What are the differences in race between the cohorts?"
   ]
  },
  {
   "cell_type": "code",
   "execution_count": null,
   "id": "6c1227dc-a8eb-491e-b1f1-dc04c6ab8406",
   "metadata": {},
   "outputs": [],
   "source": [
    "df1 = df.groupby(['race','cohort']).agg(\n",
    "    num_recipient= ('id', 'nunique')\n",
    ").reset_index()"
   ]
  },
  {
   "cell_type": "code",
   "execution_count": null,
   "id": "8a2d2d34-20dc-431d-915d-dd1e52315c55",
   "metadata": {
    "scrolled": true
   },
   "outputs": [],
   "source": [
    "df1"
   ]
  },
  {
   "cell_type": "code",
   "execution_count": null,
   "id": "65e493d6-e25e-4a7a-99df-8fcc7107d56e",
   "metadata": {},
   "outputs": [],
   "source": [
    "groups = df1.groupby(\"cohort\")\n",
    "fig, axes = plt.subplots(1, len(groups), sharey=True, figsize=(14,8))\n",
    "\n",
    "for ax, (cohort, group) in zip(axes, groups):\n",
    "    # The rename_axis function makes the difference\n",
    "    group.set_index(\"race\").rename_axis(cohort)[\"num_recipient\"].plot(kind=\"bar\", ax=ax)\n",
    "    ax.tick_params(axis='both', which='both', length=0)\n",
    "\n",
    "ax.legend()\n",
    "fig.subplots_adjust(wspace=0)"
   ]
  },
  {
   "cell_type": "markdown",
   "id": "6efaee45-2e5c-439e-9d26-cf9f0d706b42",
   "metadata": {},
   "source": [
    "Some observations from the graphs/dataframe created above: \n",
    "\n",
    "More white people receive S15 and S14/S15 than any other race. This could be due to multiple reasons, and likely these reasons confound each other. There is a higher proportion of white people living in Allegheny county, and also there is a higher proportion of white people receiving DHS services in total in Allegheny county. A proportional analysis of S15 and the demographics of Allegheny county would be interesting to investigate. \n",
    "\n",
    "There is an almost even number of black recipients in Cohorts 1 and Cohorts 2, whereas there is a higher number of white recipients in Cohort 2 than Cohort 1. This indicates that a higher percentage of white recipients are receiving both mental health services in addition to substance abuse services than black recipients. This pattern, though subtle and less significant, is also seen in the Asian recipients as well. "
   ]
  },
  {
   "cell_type": "markdown",
   "id": "202e3a45-9f6a-47c6-a485-6f2259a399d1",
   "metadata": {},
   "source": [
    "2. What are the differences in gender between the cohorts?"
   ]
  },
  {
   "cell_type": "code",
   "execution_count": null,
   "id": "07d76c68-e940-45e2-9552-f37c4c7d3c38",
   "metadata": {},
   "outputs": [],
   "source": [
    "df2 = df.groupby(['gender','cohort']).agg(\n",
    "    num_recipient= ('id', 'nunique')\n",
    ").reset_index()"
   ]
  },
  {
   "cell_type": "code",
   "execution_count": null,
   "id": "95eaaaa9-db31-42ce-905e-bd6eec1bfd78",
   "metadata": {},
   "outputs": [],
   "source": [
    "groups = df2.groupby(\"cohort\")\n",
    "fig, axes = plt.subplots(1, len(groups), sharey=True, figsize=(14,8))\n",
    "\n",
    "for ax, (cohort, group) in zip(axes, groups):\n",
    "    # The rename_axis function makes the difference\n",
    "    group.set_index(\"gender\").rename_axis(cohort)[\"num_recipient\"].plot(kind=\"bar\", ax=ax)\n",
    "    ax.tick_params(axis='both', which='both', length=0)\n",
    "\n",
    "ax.legend()\n",
    "fig.subplots_adjust(wspace=0)"
   ]
  },
  {
   "cell_type": "markdown",
   "id": "39078438-73dd-47f9-9354-ed82cf41aa5e",
   "metadata": {},
   "source": [
    "Some observations from the grpahs above:\n",
    "\n",
    "There is very little significant difference between men and women within the two cohorts. "
   ]
  },
  {
   "cell_type": "markdown",
   "id": "1162155e-228b-48e2-9fa0-6be09e262223",
   "metadata": {},
   "source": [
    "3. Did the 38 recipients who only used s15 receive care multiple months in a year?"
   ]
  },
  {
   "cell_type": "code",
   "execution_count": null,
   "id": "a29a38d8-a4f0-4079-859a-5ede1237460e",
   "metadata": {},
   "outputs": [],
   "source": [
    "df38 = df[df['cohort'] == 'ch3']\n",
    "df38"
   ]
  },
  {
   "cell_type": "code",
   "execution_count": null,
   "id": "1b33095a-1766-4018-bc56-4f673d38e437",
   "metadata": {},
   "outputs": [],
   "source": [
    "df38_g = df38.groupby(['id']).agg(\n",
    "    num_months= ('month', 'nunique')\n",
    ").reset_index()"
   ]
  },
  {
   "cell_type": "code",
   "execution_count": null,
   "id": "1516556d-abf6-426c-b92a-90b17ed1123f",
   "metadata": {},
   "outputs": [],
   "source": [
    "df38_g"
   ]
  },
  {
   "cell_type": "code",
   "execution_count": null,
   "id": "68b6e5f3-49c9-4c62-ba81-d4907d983248",
   "metadata": {},
   "outputs": [],
   "source": [
    "df38_g['num_months'].mean()"
   ]
  },
  {
   "cell_type": "markdown",
   "id": "93565fcf-53a6-45bb-b38c-08c44288d301",
   "metadata": {},
   "source": [
    "I am very interested by this cohort. In my knowledge of substance abuse, it is often accompanied by a variety of other conditions that demand different services. I am glad to see that there are only 38 recipients in this data that have only sought out substance abuse services, as that implies that most other people seeking this service are being assisted in other ways. I predicted that a majority of these recipients would only have recieved this service once because if they kept returning, DHS would likely encourage them to seek other services as well. And there are many S15 recipients who only received the service once. However, there are a much higher number of recipients who received it 10-12 times than I anticipated. "
   ]
  },
  {
   "cell_type": "markdown",
   "id": "9109e8b1-cf44-4a8c-a39b-fa7efe2731ec",
   "metadata": {},
   "source": [
    "4. What are the common services that the recipients in cohorts 1 and 2 have in common?"
   ]
  },
  {
   "cell_type": "code",
   "execution_count": null,
   "id": "73f6117c-8cbc-4a9f-a456-ddac5a2bd0fa",
   "metadata": {},
   "outputs": [],
   "source": [
    "df1415 = df[df['cohort'] == 'ch1']"
   ]
  },
  {
   "cell_type": "code",
   "execution_count": null,
   "id": "2049b784-c7fe-4237-93bf-d4a6fafb639f",
   "metadata": {},
   "outputs": [],
   "source": [
    "df1415_g = df1415.groupby(['serv']).agg(\n",
    "    num_recipients= ('id', 'nunique')\n",
    ").reset_index()"
   ]
  },
  {
   "cell_type": "code",
   "execution_count": null,
   "id": "059cada5-8bd6-4e25-8de0-03f7912a14b9",
   "metadata": {},
   "outputs": [],
   "source": [
    "df1415_g"
   ]
  },
  {
   "cell_type": "code",
   "execution_count": null,
   "id": "3db10951-88a3-4d41-b784-c0b177e7951c",
   "metadata": {},
   "outputs": [],
   "source": [
    "df15 = df[df['cohort'] == 'ch2']"
   ]
  },
  {
   "cell_type": "code",
   "execution_count": null,
   "id": "49bd5603-fe44-45fb-86cd-fb6f2622eac1",
   "metadata": {},
   "outputs": [],
   "source": [
    "df15_g = df15.groupby(['serv']).agg(\n",
    "    num_recipients= ('id', 'nunique')\n",
    ").reset_index()"
   ]
  },
  {
   "cell_type": "code",
   "execution_count": null,
   "id": "b3995e3e-51be-4d27-b21d-d3ff138192e0",
   "metadata": {},
   "outputs": [],
   "source": [
    "df15_g"
   ]
  },
  {
   "cell_type": "code",
   "execution_count": null,
   "id": "6f8f9187-162b-44e8-ba92-5a1558c530b1",
   "metadata": {},
   "outputs": [],
   "source": [
    "sns.lineplot(data=df1415_g, x='serv', y='num_recipients', label='df1415')\n",
    "sns.lineplot(data=df15_g, x='serv', y='num_recipients', label='df15')\n",
    "plt.xticks(rotation=90)\n",
    "plt.legend()\n",
    "plt.show()\n",
    "#I used the code from workbook 4 to build this graph, but I used chatgpt to learn how to plot two lines associated with two dataframes on the same plot."
   ]
  },
  {
   "cell_type": "markdown",
   "id": "0d02d235-1548-4283-a688-6d9bf2d22fa8",
   "metadata": {},
   "source": [
    "Alright, some analyses from the graph above:\n",
    "\n",
    "Aside from the obvious things (df15 having  no S14 and both df1415 and df15 having lots of S15), it is interesting to see that both dataframes show that many recipients also receive S12 (income support- the most common service) and S09 (DHS services- I am definintely confused by that column... aren't these all DHS services?) \n",
    "\n",
    "Additionally, S17 (Jail population) and S21 (Parents receiving child welfare) make notable appearance. \n",
    "\n",
    "Notably, neither category has high occurrences of \"Overdoses\", which makes me think that those are marked entirely separate from substance abuse... and there are fewer of them altogether. \n",
    "\n",
    "Neither service has high instances of the services relating to children. \n",
    "\n",
    "What is most important to see from this graph, however, is that most people who seek out services for substance abuse do so in conjunction with other services. "
   ]
  }
 ],
 "metadata": {
  "kernelspec": {
   "display_name": "Python 3 (ipykernel)",
   "language": "python",
   "name": "python3"
  },
  "language_info": {
   "codemirror_mode": {
    "name": "ipython",
    "version": 3
   },
   "file_extension": ".py",
   "mimetype": "text/x-python",
   "name": "python",
   "nbconvert_exporter": "python",
   "pygments_lexer": "ipython3",
   "version": "3.12.4"
  }
 },
 "nbformat": 4,
 "nbformat_minor": 5
}
